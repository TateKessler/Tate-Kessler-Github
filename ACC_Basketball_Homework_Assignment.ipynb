{
  "nbformat": 4,
  "nbformat_minor": 0,
  "metadata": {
    "colab": {
      "provenance": [],
      "authorship_tag": "ABX9TyNF2Lf8kmBy+C56L+G290uq",
      "include_colab_link": true
    },
    "kernelspec": {
      "name": "python3",
      "display_name": "Python 3"
    },
    "language_info": {
      "name": "python"
    }
  },
  "cells": [
    {
      "cell_type": "markdown",
      "metadata": {
        "id": "view-in-github",
        "colab_type": "text"
      },
      "source": [
        "<a href=\"https://colab.research.google.com/github/TateKessler/Tate-Kessler-Github/blob/main/ACC_Basketball_Homework_Assignment.ipynb\" target=\"_parent\"><img src=\"https://colab.research.google.com/assets/colab-badge.svg\" alt=\"Open In Colab\"/></a>"
      ]
    },
    {
      "cell_type": "code",
      "execution_count": 1,
      "metadata": {
        "colab": {
          "base_uri": "https://localhost:8080/"
        },
        "id": "vUWFlncqC78_",
        "outputId": "44adfe60-3a96-416d-b258-6d6d6290ebbd"
      },
      "outputs": [
        {
          "output_type": "stream",
          "name": "stdout",
          "text": [
            "  Unnamed: 0     Unnamed: 1 Unnamed: 2 Unnamed: 3      Unnamed: 4 Totals  \\\n",
            "0         Rk         Player      Class        Pos          School      G   \n",
            "1          1   Amaree Abram         SO          G    Georgia Tech     10   \n",
            "2          2   Sola Adebisi         FR          F   Florida State      7   \n",
            "3          3  Prince Aligbe         SO          F  Boston College     35   \n",
            "4          4     Abe Atiyeh         SR          G  Boston College      4   \n",
            "\n",
            "  Unnamed: 6 Unnamed: 7 Unnamed: 8 Unnamed: 9  ... Unnamed: 11 Unnamed: 12  \\\n",
            "0         MP        TRB        AST        STL  ...         TOV          PF   \n",
            "1        108         17         11          1  ...           9          10   \n",
            "2          9          1          1          0  ...           1           1   \n",
            "3        651        119         21         15  ...          30          51   \n",
            "4          6          0          0          0  ...           1           0   \n",
            "\n",
            "  Unnamed: 13 Shooting Unnamed: 15 Unnamed: 16 Unnamed: 17 Advanced  \\\n",
            "0         PTS      FG%         2P%         3P%         FT%      PER   \n",
            "1          34    0.262       0.318         0.2       0.615      4.1   \n",
            "2           2      0.5         0.5         NaN         NaN      3.5   \n",
            "3         164    0.435       0.522       0.147        0.62      9.4   \n",
            "4           3    0.333           0           1         NaN      1.1   \n",
            "\n",
            "  Unnamed: 19 Unnamed: 20  \n",
            "0          WS         BPM  \n",
            "1        -0.1        -6.4  \n",
            "2           0        -6.7  \n",
            "3         0.9        -1.3  \n",
            "4           0        -8.2  \n",
            "\n",
            "[5 rows x 21 columns]\n"
          ]
        }
      ],
      "source": [
        "import pandas as pd\n",
        "\n",
        "df = pd.read_csv('acc_players-2324F.csv')\n",
        "\n",
        "print(df.head())\n"
      ]
    },
    {
      "cell_type": "code",
      "source": [
        "df['Unnamed: 13'] = pd.to_numeric(df['Unnamed: 13'], errors='coerce')\n",
        "total_points = df['Unnamed: 13'].sum()\n",
        "\n",
        "print(total_points)\n"
      ],
      "metadata": {
        "colab": {
          "base_uri": "https://localhost:8080/"
        },
        "id": "pL-pR1zeDf9R",
        "outputId": "5b950142-0dc3-439d-b84e-9bcf020ae495"
      },
      "execution_count": 4,
      "outputs": [
        {
          "output_type": "stream",
          "name": "stdout",
          "text": [
            "38411.0\n"
          ]
        }
      ]
    },
    {
      "cell_type": "code",
      "source": [
        "df['Unnamed: 6'] = pd.to_numeric(df['Unnamed: 6'], errors='coerce')\n",
        "\n",
        "max_minutes_player = df.loc[df['Unnamed: 6'].idxmax(), 'Unnamed: 1']\n",
        "max_minutes = df['Unnamed: 6'].max()\n",
        "\n",
        "print(max_minutes_player, max_minutes)"
      ],
      "metadata": {
        "colab": {
          "base_uri": "https://localhost:8080/"
        },
        "id": "x4-02SS-EeTh",
        "outputId": "ec22f743-3041-4991-dc73-438a7eb800ba"
      },
      "execution_count": 6,
      "outputs": [
        {
          "output_type": "stream",
          "name": "stdout",
          "text": [
            "Casey Morsell 1333.0\n"
          ]
        }
      ]
    },
    {
      "cell_type": "code",
      "source": [
        "df['Unnamed: 7'] = pd.to_numeric(df['Unnamed: 7'], errors='coerce')\n",
        "\n",
        "top_5_rebounds = df[['Unnamed: 1', 'Unnamed: 7']].nlargest(5, 'Unnamed: 7')\n",
        "\n",
        "top_5_rebounds.columns = ['Player', 'Total Rebounds']\n",
        "\n",
        "print(top_5_rebounds)"
      ],
      "metadata": {
        "colab": {
          "base_uri": "https://localhost:8080/"
        },
        "id": "FNUTNzQ4E0nD",
        "outputId": "68627b79-0f4d-4c4f-9b0a-6dff8a506051"
      },
      "execution_count": 7,
      "outputs": [
        {
          "output_type": "stream",
          "name": "stdout",
          "text": [
            "              Player  Total Rebounds\n",
            "6      Armando Bacot           380.0\n",
            "179  Ian Schieffelin           340.0\n",
            "91   Harrison Ingram           327.0\n",
            "45    Mohamed Diarra           311.0\n",
            "150    Norchad Omier           309.0\n"
          ]
        }
      ]
    },
    {
      "cell_type": "code",
      "source": [
        "df_filtered = df[df['Unnamed: 6'] > 500].copy()\n",
        "\n",
        "print(df_filtered.head())"
      ],
      "metadata": {
        "colab": {
          "base_uri": "https://localhost:8080/"
        },
        "id": "ws4hDjlVFF2t",
        "outputId": "582e8e57-f0f3-4f34-eebe-a881a9b3e401"
      },
      "execution_count": 8,
      "outputs": [
        {
          "output_type": "stream",
          "name": "stdout",
          "text": [
            "   Unnamed: 0     Unnamed: 1 Unnamed: 2 Unnamed: 3      Unnamed: 4 Totals  \\\n",
            "3           3  Prince Aligbe         SO          F  Boston College     35   \n",
            "5           5    Zack Austin         JR          F      Pittsburgh     33   \n",
            "6           6  Armando Bacot         SR          F  North Carolina     37   \n",
            "8           8  Reece Beekman         SR          G        Virginia     34   \n",
            "10         10     Chris Bell         SO          F        Syracuse     32   \n",
            "\n",
            "    Unnamed: 6  Unnamed: 7 Unnamed: 8 Unnamed: 9  ... Unnamed: 11 Unnamed: 12  \\\n",
            "3        651.0       119.0         21         15  ...          30          51   \n",
            "5        746.0       137.0         29         32  ...          13          35   \n",
            "6       1123.0       380.0         56         22  ...          60         100   \n",
            "8       1114.0       124.0        212         68  ...          70          43   \n",
            "10       865.0        75.0         21         18  ...          26          58   \n",
            "\n",
            "   Unnamed: 13  Shooting Unnamed: 15 Unnamed: 16 Unnamed: 17 Advanced  \\\n",
            "3        164.0     0.435       0.522       0.147        0.62      9.4   \n",
            "5        216.0     0.417       0.563       0.295       0.737       18   \n",
            "6        538.0      0.54       0.544         0.4       0.781     24.6   \n",
            "8        486.0     0.443       0.487        0.31       0.754     23.4   \n",
            "10       384.0     0.434       0.459        0.42       0.842     14.9   \n",
            "\n",
            "   Unnamed: 19 Unnamed: 20  \n",
            "3          0.9        -1.3  \n",
            "5          2.9         7.9  \n",
            "6          6.1         8.9  \n",
            "8          4.9        10.5  \n",
            "10         2.2         3.3  \n",
            "\n",
            "[5 rows x 21 columns]\n"
          ]
        }
      ]
    },
    {
      "cell_type": "code",
      "source": [
        "df_filtered.columns = ['Rank', 'Player', 'Class', 'Position', 'School', 'Games', 'Minutes Played', 'Total Rebounds',\n",
        "                       'Assists', 'Steals', 'Blocks', 'Turnovers', 'Personal Fouls', 'Points', 'Field Goal %',\n",
        "                       '2-Point %', '3-Point %', 'Free Throw %', 'PER', 'Win Shares', 'BPM']\n",
        "\n",
        "print(df_filtered.head())"
      ],
      "metadata": {
        "colab": {
          "base_uri": "https://localhost:8080/"
        },
        "id": "IpfDy7j3Felg",
        "outputId": "00b85bda-02ce-4691-e32d-5a058b8d2673"
      },
      "execution_count": 10,
      "outputs": [
        {
          "output_type": "stream",
          "name": "stdout",
          "text": [
            "   Rank         Player Class Position          School Games  Minutes Played  \\\n",
            "3     3  Prince Aligbe    SO        F  Boston College    35           651.0   \n",
            "5     5    Zack Austin    JR        F      Pittsburgh    33           746.0   \n",
            "6     6  Armando Bacot    SR        F  North Carolina    37          1123.0   \n",
            "8     8  Reece Beekman    SR        G        Virginia    34          1114.0   \n",
            "10   10     Chris Bell    SO        F        Syracuse    32           865.0   \n",
            "\n",
            "    Total Rebounds Assists Steals  ... Turnovers Personal Fouls Points  \\\n",
            "3            119.0      21     15  ...        30             51  164.0   \n",
            "5            137.0      29     32  ...        13             35  216.0   \n",
            "6            380.0      56     22  ...        60            100  538.0   \n",
            "8            124.0     212     68  ...        70             43  486.0   \n",
            "10            75.0      21     18  ...        26             58  384.0   \n",
            "\n",
            "    Field Goal % 2-Point % 3-Point % Free Throw %   PER Win Shares   BPM  \n",
            "3          0.435     0.522     0.147         0.62   9.4        0.9  -1.3  \n",
            "5          0.417     0.563     0.295        0.737    18        2.9   7.9  \n",
            "6           0.54     0.544       0.4        0.781  24.6        6.1   8.9  \n",
            "8          0.443     0.487      0.31        0.754  23.4        4.9  10.5  \n",
            "10         0.434     0.459      0.42        0.842  14.9        2.2   3.3  \n",
            "\n",
            "[5 rows x 21 columns]\n"
          ]
        }
      ]
    },
    {
      "cell_type": "code",
      "source": [
        "most_assists_player = df_filtered.loc[df_filtered['Assists'].idxmax(), ['Player', 'Assists']]\n",
        "\n",
        "print(most_assists_player)"
      ],
      "metadata": {
        "colab": {
          "base_uri": "https://localhost:8080/"
        },
        "id": "lsBlBb4kFrWm",
        "outputId": "34fb9b24-a680-44bc-b1c2-8800c181ce7d"
      },
      "execution_count": 16,
      "outputs": [
        {
          "output_type": "stream",
          "name": "stdout",
          "text": [
            "Player     Reece Beekman\n",
            "Assists              212\n",
            "Name: 8, dtype: object\n"
          ]
        }
      ]
    },
    {
      "cell_type": "code",
      "source": [
        "df_filtered['Assists'] = pd.to_numeric(df_filtered['Assists'], errors='coerce')\n",
        "\n",
        "top_3_assists = df_filtered[['Player', 'Assists']].nlargest(3, 'Assists')\n",
        "\n",
        "print(top_3_assists)"
      ],
      "metadata": {
        "colab": {
          "base_uri": "https://localhost:8080/"
        },
        "id": "IxZolDKuFzX2",
        "outputId": "971d2b0a-d9a5-45ae-dbc1-9b1f101d371a"
      },
      "execution_count": 15,
      "outputs": [
        {
          "output_type": "stream",
          "name": "stdout",
          "text": [
            "             Player  Assists\n",
            "8     Reece Beekman      212\n",
            "216  Jaeden Zackery      152\n",
            "22    Elliot Cadeau      150\n"
          ]
        }
      ]
    },
    {
      "cell_type": "code",
      "source": [
        "df_filtered['Blocks'] = pd.to_numeric(df_filtered['Blocks'], errors='coerce')\n",
        "\n",
        "top_3_blocks = df_filtered[['Player', 'Blocks']].nlargest(3, 'Blocks')\n",
        "\n",
        "print(top_3_blocks)\n"
      ],
      "metadata": {
        "colab": {
          "base_uri": "https://localhost:8080/"
        },
        "id": "zIiO3W1UGrDH",
        "outputId": "4468879c-ea96-463a-f0c0-b64ab2b001b0"
      },
      "execution_count": 18,
      "outputs": [
        {
          "output_type": "stream",
          "name": "stdout",
          "text": [
            "            Player  Blocks\n",
            "52       Ryan Dunn      77\n",
            "158   Quinten Post      61\n",
            "6    Armando Bacot      56\n"
          ]
        }
      ]
    },
    {
      "cell_type": "code",
      "source": [
        "total_points_by_school = df.groupby('Unnamed: 4')['Unnamed: 13'].sum()\n",
        "print(total_points_by_school)\n"
      ],
      "metadata": {
        "colab": {
          "base_uri": "https://localhost:8080/"
        },
        "id": "he4uFzhOG3bT",
        "outputId": "5912397e-38e4-4d1e-e9c8-be9dee26b90d"
      },
      "execution_count": 20,
      "outputs": [
        {
          "output_type": "stream",
          "name": "stdout",
          "text": [
            "Unnamed: 4\n",
            "Boston College    2667.0\n",
            "Clemson           2785.0\n",
            "Duke              2830.0\n",
            "Florida State     2526.0\n",
            "Georgia Tech      2272.0\n",
            "Louisville        2304.0\n",
            "Miami (FL)        2424.0\n",
            "NC State          3101.0\n",
            "North Carolina    3032.0\n",
            "Notre Dame        2113.0\n",
            "Pittsburgh        2495.0\n",
            "School               0.0\n",
            "Syracuse          2442.0\n",
            "Virginia          2140.0\n",
            "Virginia Tech     2547.0\n",
            "Wake Forest       2733.0\n",
            "Name: Unnamed: 13, dtype: float64\n"
          ]
        }
      ]
    },
    {
      "cell_type": "code",
      "source": [
        "team_assists = df_filtered.groupby('School')['Assists'].sum().reset_index()\n",
        "\n",
        "team_assists = team_assists.sort_values(by='Assists', ascending=False)\n",
        "\n",
        "print(team_assists)\n",
        "\n"
      ],
      "metadata": {
        "colab": {
          "base_uri": "https://localhost:8080/"
        },
        "id": "Unb1-6t7HGVB",
        "outputId": "84487934-6c4b-4c0c-944d-cd99c627993e"
      },
      "execution_count": 24,
      "outputs": [
        {
          "output_type": "stream",
          "name": "stdout",
          "text": [
            "            School  Assists\n",
            "7         NC State      502\n",
            "1          Clemson      494\n",
            "2             Duke      494\n",
            "8   North Carolina      491\n",
            "0   Boston College      440\n",
            "10      Pittsburgh      430\n",
            "13   Virginia Tech      417\n",
            "12        Virginia      415\n",
            "6       Miami (FL)      413\n",
            "14     Wake Forest      410\n",
            "4     Georgia Tech      405\n",
            "11        Syracuse      402\n",
            "5       Louisville      335\n",
            "3    Florida State      328\n",
            "9       Notre Dame      312\n"
          ]
        }
      ]
    },
    {
      "cell_type": "code",
      "source": [
        "total_points_by_school = df.groupby('Unnamed: 4')['Unnamed: 13'].sum().sort_values(ascending=False)\n",
        "\n",
        "top_3_schools_by_points = total_points_by_school.head(3)\n",
        "\n",
        "print(top_3_schools_by_points)\n"
      ],
      "metadata": {
        "colab": {
          "base_uri": "https://localhost:8080/"
        },
        "id": "SsKQm5j_Hp-x",
        "outputId": "f82981e8-b6ad-4702-fa9b-c8ebd836c985"
      },
      "execution_count": 26,
      "outputs": [
        {
          "output_type": "stream",
          "name": "stdout",
          "text": [
            "Unnamed: 4\n",
            "NC State          3101.0\n",
            "North Carolina    3032.0\n",
            "Duke              2830.0\n",
            "Name: Unnamed: 13, dtype: float64\n"
          ]
        }
      ]
    },
    {
      "cell_type": "code",
      "source": [
        "#Bonus graph\n",
        "\n",
        "import matplotlib.pyplot as plt\n",
        "\n",
        "top_5_scorers = df[['Unnamed: 1', 'Unnamed: 13']].nlargest(5, 'Unnamed: 13')\n",
        "top_5_scorers.columns = ['Player', 'Points']\n",
        "\n",
        "plt.figure(figsize=(10, 6))\n",
        "plt.bar(top_5_scorers['Player'], top_5_scorers['Points'])\n",
        "plt.xlabel('Player')\n",
        "plt.ylabel('Total Points')\n",
        "plt.title('Top 5 Players by Total Points')\n",
        "plt.xticks(rotation=45, ha='right')\n",
        "plt.tight_layout()\n",
        "plt.show()\n"
      ],
      "metadata": {
        "colab": {
          "base_uri": "https://localhost:8080/",
          "height": 422
        },
        "id": "sfiGFbrsJut8",
        "outputId": "0c2e2eeb-bafc-494e-ed5c-c30af2afacd0"
      },
      "execution_count": 28,
      "outputs": [
        {
          "output_type": "display_data",
          "data": {
            "text/plain": [
              "<Figure size 1000x600 with 1 Axes>"
            ],
            "image/png": "[encoded data removed]"
          },
          "metadata": {}
        }
      ]
    },
    {
      "cell_type": "code",
      "source": [
        "import matplotlib.pyplot as plt\n",
        "import numpy as np\n",
        "\n",
        "df_filtered['Field Goal %'] = pd.to_numeric(df_filtered['Field Goal %'], errors='coerce')\n",
        "df_filtered['Win Shares'] = pd.to_numeric(df_filtered['Win Shares'], errors='coerce')\n",
        "\n",
        "df_filtered_cleaned = df_filtered.dropna(subset=['Field Goal %', 'Win Shares'])\n",
        "\n",
        "plt.figure(figsize=(10, 6))\n",
        "plt.scatter(df_filtered_cleaned['Field Goal %'], df_filtered_cleaned['Win Shares'])\n",
        "plt.xlabel('Field Goal Percentage')\n",
        "plt.ylabel('Win Shares')\n",
        "plt.title('Correlation between Field Goal Percentage and Win Shares')\n",
        "plt.show()\n",
        "\n",
        "correlation_coefficient = df_filtered_cleaned['Field Goal %'].corr(df_filtered_cleaned['Win Shares'])\n",
        "print(f\"Correlation coefficient between FG% and Win Shares: {correlation_coefficient}\")\n"
      ],
      "metadata": {
        "colab": {
          "base_uri": "https://localhost:8080/",
          "height": 601
        },
        "id": "k1u6-5cmKOmE",
        "outputId": "96f31608-4a13-4bcd-de5f-241eb483d007"
      },
      "execution_count": 31,
      "outputs": [
        {
          "output_type": "display_data",
          "data": {
            "text/plain": [
              "<Figure size 1000x600 with 1 Axes>"
            ],
            "image/png": "[encoded data removed]"
          },
          "metadata": {}
        },
        {
          "output_type": "stream",
          "name": "stdout",
          "text": [
            "Correlation coefficient between FG% and Win Shares: 0.5195835052001343\n"
          ]
        }
      ]
    },
    {
      "cell_type": "markdown",
      "source": [
        "Through this assignment, I significantly improved my ability to filter data efficiently. By working with this csv file that was strangely labeled, I learned how to apply conditional filtering to isolate subsets of data, like identifying players who played more than 500 minutes or pulling the top performers in categories like assists and blocks. This filtering process was made way harder by the “unnamed” column titles from the CSV file and I need to find a quicker way to work around this. These filtering techniques are important for future data analysis projects, because they let me run more specific queries on large datasets so I can extract information and insights accurately.\n",
        "One of the biggest challenges in this assignment was dealing with the unnamed columns in the dataset. Since the data lacked clear labels, it was difficult to interpret and run queries accurately. To overcome this, I looked at the structure of the data first, identified the columns, and tried to rename them to more intuitive labels like \"Player,\" \"Minutes Played,\" and \"Assists.\" within the condensed data frame of players over 500 minutes. This helped me to streamline the analysis and avoid potential errors in querying specific columns, helping make sure the calculations were accurate. However, I couldn't figure out how to make this work on the larger data set so I continued with the unnamed labels.\n",
        "This project showed me how useful data analysis can be in different areas not just sports, but also business and healthcare. Being able to sort through data and make sense of it helps people make smarter choices, like figuring out which players are most valuable or spotting trends in how a company is doing. Dealing with messy data that wasn't organized exactly how I wanted taught me a lot about handling real-world information, which often will need to be cleaned up before I can learn anything useful from it. I feel like I've gained skills that I could use to solve all kinds of problems in different industries.\n"
      ],
      "metadata": {
        "id": "hBHY8yK8LGoi"
      }
    }
  ]
}