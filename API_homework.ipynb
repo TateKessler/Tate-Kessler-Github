{
  "nbformat": 4,
  "nbformat_minor": 0,
  "metadata": {
    "colab": {
      "provenance": [],
      "authorship_tag": "ABX9TyOtezAKeTGli/L2eF+6ydCt",
      "include_colab_link": true
    },
    "kernelspec": {
      "name": "python3",
      "display_name": "Python 3"
    },
    "language_info": {
      "name": "python"
    }
  },
  "cells": [
    {
      "cell_type": "markdown",
      "metadata": {
        "id": "view-in-github",
        "colab_type": "text"
      },
      "source": [
        "<a href=\"https://colab.research.google.com/github/TateKessler/Tate-Kessler-Github/blob/main/API_homework.ipynb\" target=\"_parent\"><img src=\"https://colab.research.google.com/assets/colab-badge.svg\" alt=\"Open In Colab\"/></a>"
      ]
    },
    {
      "cell_type": "code",
      "source": [
        "import requests\n",
        "import pandas as pd"
      ],
      "metadata": {
        "id": "-5MmgfUaL42t"
      },
      "execution_count": 1,
      "outputs": []
    },
    {
      "cell_type": "code",
      "source": [
        "ticker = input(\"Enter the stock ticker symbol: \").upper()\n",
        "\n",
        "print(f\"You entered: {ticker}\")"
      ],
      "metadata": {
        "colab": {
          "base_uri": "https://localhost:8080/"
        },
        "id": "-uEIi6vxL73b",
        "outputId": "13b9a0c1-8caf-497c-dd29-5b41113743dc"
      },
      "execution_count": 2,
      "outputs": [
        {
          "output_type": "stream",
          "name": "stdout",
          "text": [
            "Enter the stock ticker symbol: AMZN\n",
            "You entered: AMZN\n"
          ]
        }
      ]
    },
    {
      "cell_type": "code",
      "source": [
        "API_BASE_URL = \"https://api.financeapi.net\"\n",
        "API_KEY = \"UEInANQXgx95sgkXdA5caU0FR9Y4bUk8DTcgBOa0\"\n",
        "HEADERS = {\"Authorization\": f\"Bearer {API_KEY}\"}"
      ],
      "metadata": {
        "id": "bXeb2gm8MbKQ"
      },
      "execution_count": 3,
      "outputs": []
    },
    {
      "cell_type": "code",
      "source": [
        "def get_stock_details(ticker):\n",
        "    try:\n",
        "        response = requests.get(f\"{API_BASE_URL}/v1/stock/{ticker}\", headers=HEADERS)\n",
        "        response.raise_for_status()  # Raise an exception for HTTP errors\n",
        "        data = response.json()\n",
        "        return data\n",
        "    except requests.exceptions.RequestException as e:\n",
        "        print(f\"An error occurred: {e}\")\n",
        "        return None"
      ],
      "metadata": {
        "id": "9hCVS0UhOADK"
      },
      "execution_count": 4,
      "outputs": []
    },
    {
      "cell_type": "code",
      "source": [
        "def get_trending_stocks():\n",
        "    try:\n",
        "        response = requests.get(f\"{API_BASE_URL}/v1/market/trending\", headers=HEADERS)\n",
        "        response.raise_for_status()  # Raise an exception for HTTP errors\n",
        "        data = response.json()\n",
        "        trending_stocks = data.get(\"trending\", [])[:5]  # Get top 5 trending stocks\n",
        "        return trending_stocks\n",
        "    except requests.exceptions.RequestException as e:\n",
        "        print(f\"An error occurred: {e}\")\n",
        "        return []"
      ],
      "metadata": {
        "id": "3zaGE-QmOGva"
      },
      "execution_count": 5,
      "outputs": []
    },
    {
      "cell_type": "code",
      "source": [
        "import yfinance as yf\n",
        "\n",
        "ticker = input(\"Enter the stock ticker symbol: \").upper()\n",
        "\n",
        "stock = yf.Ticker(ticker)\n",
        "\n",
        "try:\n",
        "    stock_info = stock.info\n",
        "    ticker_name = stock_info.get(\"symbol\", \"N/A\")\n",
        "    full_name = stock_info.get(\"longName\", \"N/A\")\n",
        "    current_price = stock_info.get(\"regularMarketPrice\", \"N/A\")\n",
        "    target_mean_price = stock_info.get(\"targetMeanPrice\", \"N/A\")\n",
        "    week_52_high = stock_info.get(\"fiftyTwoWeekHigh\", \"N/A\")\n",
        "    week_52_low = stock_info.get(\"fiftyTwoWeekLow\", \"N/A\")\n",
        "\n",
        "    print(\"\\nStock Information:\")\n",
        "    print(f\"Ticker: {ticker_name}\")\n",
        "    print(f\"Full Name: {full_name}\")\n",
        "    print(f\"Current Market Price: {current_price}\")\n",
        "    print(f\"Target Mean Price: {target_mean_price}\")\n",
        "    print(f\"52-Week High: {week_52_high}\")\n",
        "    print(f\"52-Week Low: {week_52_low}\")\n",
        "\n",
        "    popular_tickers = ['AAPL', 'TSLA', 'GOOGL', 'AMZN', 'MSFT']\n",
        "    print(\"\\nTop 5 Popular Stocks:\")\n",
        "    for i, popular_ticker in enumerate(popular_tickers, 1):\n",
        "        print(f\"{i}. {popular_ticker}\")\n",
        "except Exception as e:\n",
        "    print(f\"An error occurred while fetching stock details: {e}\")\n"
      ],
      "metadata": {
        "colab": {
          "base_uri": "https://localhost:8080/"
        },
        "id": "5xs1bw9BOjuL",
        "outputId": "1094ea8f-9260-434e-f663-584499524331"
      },
      "execution_count": 11,
      "outputs": [
        {
          "output_type": "stream",
          "name": "stdout",
          "text": [
            "Enter the stock ticker symbol: AMZN\n",
            "\n",
            "Stock Information:\n",
            "Ticker: AMZN\n",
            "Full Name: Amazon.com, Inc.\n",
            "Current Market Price: N/A\n",
            "Target Mean Price: 218.66\n",
            "52-Week High: 201.2\n",
            "52-Week Low: 118.35\n",
            "\n",
            "Top 5 Popular Stocks:\n",
            "1. AAPL\n",
            "2. TSLA\n",
            "3. GOOGL\n",
            "4. AMZN\n",
            "5. MSFT\n"
          ]
        }
      ]
    },
    {
      "cell_type": "code",
      "source": [
        "df = pd.DataFrame([{\n",
        "        \"Ticker\": ticker_name,\n",
        "        \"Full Name\": full_name,\n",
        "        \"Current Market Price\": current_price,\n",
        "        \"Target Mean Price\": target_mean_price,\n",
        "        \"52-Week High\": week_52_high,\n",
        "        \"52-Week Low\": week_52_low\n",
        "    }])"
      ],
      "metadata": {
        "id": "shuYIo34Pozq"
      },
      "execution_count": 14,
      "outputs": []
    },
    {
      "cell_type": "code",
      "source": [
        "csv_filename = f\"{ticker}_stock_data.csv\"\n",
        "df.to_csv(csv_filename, index=False)\n",
        "print(f\"\\nStock data saved to {csv_filename}\")\n"
      ],
      "metadata": {
        "colab": {
          "base_uri": "https://localhost:8080/"
        },
        "id": "FJhsvoQYPw_k",
        "outputId": "d5b4cd81-21b4-4558-b0dd-f9f332ab0a7f"
      },
      "execution_count": 17,
      "outputs": [
        {
          "output_type": "stream",
          "name": "stdout",
          "text": [
            "\n",
            "Stock data saved to AMZN_stock_data.csv\n"
          ]
        }
      ]
    },
    {
      "cell_type": "code",
      "source": [
        "try:\n",
        "    raise ValueError(\"Testing error handling\")\n",
        "except ValueError as ve:\n",
        "    print(f\"Error: {ve}\")\n"
      ],
      "metadata": {
        "colab": {
          "base_uri": "https://localhost:8080/"
        },
        "id": "J6v-J9EMQ_m1",
        "outputId": "4135ea22-6cc3-4bc1-f39c-fcdb9a459cd2"
      },
      "execution_count": 25,
      "outputs": [
        {
          "output_type": "stream",
          "name": "stdout",
          "text": [
            "Error: Testing error handling\n"
          ]
        }
      ]
    },
    {
      "cell_type": "code",
      "source": [
        "import matplotlib.pyplot as plt\n",
        "\n",
        "try:\n",
        "\n",
        "  high_prices = historical_data['High']\n",
        "\n",
        "  plt.plot(high_prices.index, high_prices.values)\n",
        "  plt.xlabel('Date')\n",
        "  plt.ylabel('Highest Price')\n",
        "  plt.title(f'Highest Stock Price for {ticker} (Past 5 Days)')\n",
        "  plt.grid(True)\n",
        "  plt.show()\n",
        "\n",
        "except Exception as e:\n",
        "  print(f\"An error occurred while plotting the chart: {e}\")\n"
      ],
      "metadata": {
        "colab": {
          "base_uri": "https://localhost:8080/",
          "height": 472
        },
        "id": "BpZ2DEzBROd9",
        "outputId": "e8c9badc-878a-492f-d30b-6bb7ae725cb6"
      },
      "execution_count": 27,
      "outputs": [
        {
          "output_type": "display_data",
          "data": {
            "text/plain": [
              "<Figure size 640x480 with 1 Axes>"
            ],
            "image/png": "[encoded data removed]"
          },
          "metadata": {}
        }
      ]
    }
  ]
}